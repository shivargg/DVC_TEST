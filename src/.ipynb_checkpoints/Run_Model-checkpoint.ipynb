{
 "cells": [
  {
   "cell_type": "code",
   "execution_count": 15,
   "id": "e9f37f8a",
   "metadata": {},
   "outputs": [],
   "source": [
    "from sklearn.model_selection import train_test_split\n",
    "from sklearn.preprocessing import StandardScaler, LabelEncoder, OneHotEncoder, RobustScaler, MinMaxScaler\n",
    "from statsmodels.stats.outliers_influence import variance_inflation_factor\n",
    "from statsmodels .tools.tools import add_constant\n",
    "from sklearn.preprocessing import PowerTransformer\n",
    "from sklearn.ensemble import RandomForestRegressor\n",
    "\n",
    "from tqdm import tqdm\n",
    "from math import sqrt\n",
    "from scipy import stats\n",
    "from sklearn.metrics import mean_absolute_error, r2_score, mean_squared_error, mean_absolute_percentage_error\n",
    "from matplotlib import pyplot as plt\n",
    "\n",
    "import pandas as pd\n",
    "import numpy as np\n",
    "import seaborn as sns\n",
    "\n",
    "import sys\n",
    "import json\n",
    "import copy\n",
    "import shap\n",
    "import pickle\n",
    "\n",
    "pd.set_option('display.max_rows', 500)\n",
    "pd.set_option('display.max_columns', 500)\n",
    "pd.set_option('display.width', 800)\n",
    "\n",
    "np.set_printoptions(threshold=sys.maxsize)"
   ]
  },
  {
   "cell_type": "code",
   "execution_count": 16,
   "id": "a6fe3c85",
   "metadata": {},
   "outputs": [],
   "source": [
    "def my_custom_directional_accuracy_func(actual, pred, prev_actual):\n",
    "    num_increases_matching = 0\n",
    "    num_decreases_matching = 0\n",
    "    num_exact_matches = 0\n",
    "    total_num_records = len(actual)\n",
    "    actual_direction = actual - prev_actual\n",
    "    pred_direction = pred - prev_actual\n",
    "    actual_signs = np.sign(actual_direction)\n",
    "    predicted_signs = np.sign(pred_direction)\n",
    "    matches = (actual_signs == predicted_signs).astype(int)\n",
    "    num_matches = np.sum(matches)\n",
    "    return ((num_matches / total_num_records) * 100)\n",
    "\n",
    "def metrics(actual, predicted, prev_actual):\n",
    "    eval_metrics = {\n",
    "        'mape': round(np.mean(abs(actual-predicted) / 1 + actual ), 2),\n",
    "        'median_ape': round(np.median(abs(actual-predicted) / 1 + actual ), 2),\n",
    "        'mae': round(mean_absolute_error(actual, predicted), 2),\n",
    "        'mse': round(mean_squared_error(actual, predicted), 2),\n",
    "        'rsquare': round(r2_score(actual, predicted), 2),\n",
    "        'directonal_acc': round(my_custom_directional_accuracy_func(actual, predicted, prev_actual), 2)\n",
    "    }\n",
    "    eval_metrics['rmse'] = round(sqrt(eval_metrics['mse']), 2)\n",
    "    return eval_metrics\n",
    "\n",
    "def generate_model_report(model_name, model, pred_data, y, prev_actual):\n",
    "    pred_results = model.predict(pred_data).reshape(-1, 1)\n",
    "    results = metrics(np.ravel(y), np.ravel(pred_results), np.ravel(prev_actual))\n",
    "    results['model'] = model_name\n",
    "    return results\n",
    "\n",
    "def scale_data(X_train, X_test, numeric_cols):\n",
    "    test_set_passed = X_test is not None\n",
    "    scaler = MinMaxScaler().fit(X_train[numeric_cols].values)\n",
    "    X_train_scaled = copy.deepcopy(X_train)\n",
    "    X_test_scaled = None\n",
    "    X_train_scaled[numeric_cols] = pd.DataFrame(scaler.transform(X_train[numeric_cols].values), columns=numeric_cols, index=X_train.index).fillna(0)\n",
    "    if test_set_passed:\n",
    "        X_test_scaled = copy.deepcopy(X_test)\n",
    "        X_test_scaled[numeric_cols] = pd.DataFrame(scaler.transform(X_test_scaled[numeric_cols].values), columns=numeric_cols, index=X_test.index).fillna(0)\n",
    "    return X_train_scaled, X_test_scaled"
   ]
  },
  {
   "cell_type": "code",
   "execution_count": 17,
   "id": "25a8a6c5",
   "metadata": {},
   "outputs": [
    {
     "name": "stdout",
     "output_type": "stream",
     "text": [
      "/home/shiv/Github/DVC_TEST/src\r\n"
     ]
    }
   ],
   "source": [
    "!pwd"
   ]
  },
  {
   "cell_type": "code",
   "execution_count": 21,
   "id": "7fa1f3b7",
   "metadata": {},
   "outputs": [],
   "source": [
    "filename = '/home/shiv/Github/DVC_TEST/src/../data/API_dataset.pkl'"
   ]
  },
  {
   "cell_type": "code",
   "execution_count": 22,
   "id": "97b4143d",
   "metadata": {},
   "outputs": [],
   "source": [
    "model_prep = pickle.load(open(filename, \"rb\"))"
   ]
  },
  {
   "cell_type": "code",
   "execution_count": 24,
   "id": "018f7a83",
   "metadata": {},
   "outputs": [],
   "source": [
    "train = model_prep['train']\n",
    "test = model_prep['test']\n",
    "vif_cols_5 = model_prep['vif_cols_5']\n",
    "numeric_cols = model_prep['numeric_cols']\n",
    "cat_cols = model_prep['cat_cols']\n",
    "all_cols_dropped = model_prep['dropped_cols']"
   ]
  },
  {
   "cell_type": "code",
   "execution_count": 25,
   "id": "c95159b6",
   "metadata": {},
   "outputs": [],
   "source": [
    "all_future_quarters = np.sort(pd.unique(test['YEAR_QTR_DATE']))"
   ]
  },
  {
   "cell_type": "code",
   "execution_count": 26,
   "id": "4c03c18b",
   "metadata": {},
   "outputs": [],
   "source": [
    "df = pd.concat([train, test])"
   ]
  },
  {
   "cell_type": "code",
   "execution_count": 32,
   "id": "16525fe7",
   "metadata": {},
   "outputs": [],
   "source": [
    "model_type = 'API'"
   ]
  },
  {
   "cell_type": "code",
   "execution_count": 34,
   "id": "2466dcd7",
   "metadata": {},
   "outputs": [
    {
     "name": "stdout",
     "output_type": "stream",
     "text": [
      "2022_3\n",
      "Ranges for train data:  2019-01-01 00:00:00 2022-04-01 00:00:00\n",
      "Ranges for train data:  2022-07-01 00:00:00 2022-07-01 00:00:00\n"
     ]
    },
    {
     "ename": "NameError",
     "evalue": "name 'all_model_names' is not defined",
     "output_type": "error",
     "traceback": [
      "\u001b[0;31m---------------------------------------------------------------------------\u001b[0m",
      "\u001b[0;31mNameError\u001b[0m                                 Traceback (most recent call last)",
      "Cell \u001b[0;32mIn [34], line 27\u001b[0m\n\u001b[1;32m     25\u001b[0m model\u001b[38;5;241m.\u001b[39mfit(X_train_scaled, y_train)\n\u001b[1;32m     26\u001b[0m previous_quarter_data \u001b[38;5;241m=\u001b[39m X_test[\u001b[38;5;124mf\u001b[39m\u001b[38;5;124m'\u001b[39m\u001b[38;5;132;01m{\u001b[39;00mmodel_type\u001b[38;5;132;01m}\u001b[39;00m\u001b[38;5;124m_Q_MINUS_1\u001b[39m\u001b[38;5;124m'\u001b[39m]\n\u001b[0;32m---> 27\u001b[0m results \u001b[38;5;241m=\u001b[39m generate_model_report(\u001b[43mall_model_names\u001b[49m[index], model, X_test_scaled, y_test, previous_quarter_data)\n\u001b[1;32m     28\u001b[0m results[\u001b[38;5;124m'\u001b[39m\u001b[38;5;124myear_qtr\u001b[39m\u001b[38;5;124m'\u001b[39m] \u001b[38;5;241m=\u001b[39m year_qtr\n\u001b[1;32m     29\u001b[0m all_results[year_qtr]\u001b[38;5;241m.\u001b[39mappend(results)\n",
      "\u001b[0;31mNameError\u001b[0m: name 'all_model_names' is not defined"
     ]
    }
   ],
   "source": [
    "all_results = {}\n",
    "\n",
    "for future_quarter in all_future_quarters[-1:]:\n",
    "    year_qtr = str(pd.to_datetime(future_quarter).year) + '_' + str(pd.to_datetime(future_quarter).quarter)\n",
    "    all_results[year_qtr] = []\n",
    "    \n",
    "    train = df[df['YEAR_QTR_DATE'] < future_quarter]\n",
    "    test = df[df['YEAR_QTR_DATE'] == future_quarter]\n",
    "    \n",
    "    X_train = copy.deepcopy(train)\n",
    "    y_train = X_train[model_type]\n",
    "    \n",
    "    print(year_qtr)\n",
    "    print(\"Ranges for train data: \", X_train['YEAR_QTR_DATE'].min(), X_train['YEAR_QTR_DATE'].max())\n",
    "    X_train.drop(columns = ['AGT_ID', 'YEAR_QTR_DATE', model_type], inplace = True)\n",
    "    \n",
    "    X_test = copy.deepcopy(test)\n",
    "    y_test = X_test[model_type]\n",
    "    print(\"Ranges for train data: \", X_test['YEAR_QTR_DATE'].min(), X_test['YEAR_QTR_DATE'].max())\n",
    "    X_test.drop(columns = ['AGT_ID', 'YEAR_QTR_DATE', model_type], inplace = True)\n",
    "    \n",
    "    X_train_scaled, X_test_scaled = scale_data(X_train, X_test, numeric_cols)\n",
    "    \n",
    "    model = RandomForestRegressor(n_estimators=100, max_depth=20, min_samples_leaf=10, criterion = 'absolute_error')\n",
    "    model.fit(X_train_scaled, y_train)\n",
    "    previous_quarter_data = X_test[f'{model_type}_Q_MINUS_1']\n",
    "    results = generate_model_report(model_type, model, X_test_scaled, y_test, previous_quarter_data)\n",
    "    results['year_qtr'] = year_qtr\n",
    "    all_results[year_qtr].append(results)"
   ]
  },
  {
   "cell_type": "code",
   "execution_count": 37,
   "id": "c368bb61",
   "metadata": {},
   "outputs": [],
   "source": [
    "with open('/home/shiv/Github/DVC_TEST/experiment_results/results.json', 'w') as f:\n",
    "    json.dump(results, f)"
   ]
  },
  {
   "cell_type": "code",
   "execution_count": null,
   "id": "94adf954",
   "metadata": {},
   "outputs": [],
   "source": []
  }
 ],
 "metadata": {
  "kernelspec": {
   "display_name": "Python 3 (ipykernel)",
   "language": "python",
   "name": "python3"
  },
  "language_info": {
   "codemirror_mode": {
    "name": "ipython",
    "version": 3
   },
   "file_extension": ".py",
   "mimetype": "text/x-python",
   "name": "python",
   "nbconvert_exporter": "python",
   "pygments_lexer": "ipython3",
   "version": "3.8.10"
  }
 },
 "nbformat": 4,
 "nbformat_minor": 5
}
